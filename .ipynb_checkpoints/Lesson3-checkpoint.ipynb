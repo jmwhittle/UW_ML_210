{
 "cells": [
  {
   "cell_type": "markdown",
   "metadata": {},
   "source": [
    "<h1>Lesson 3. Classification: Credit worthiness from German bank</h1>"
   ]
  },
  {
   "cell_type": "markdown",
   "metadata": {},
   "source": [
    "<img src=\"https://upload.wikimedia.org/wikipedia/commons/8/8e/Flag_map_of_Germany.svg\" style=\"height:200px;\">\n",
    "  \n",
    "  <p>In this exercise you will predict credit worthiness of custmers of a German bank (<a href=\"https://archive.ics.uci.edu/ml/datasets/statlog+(german+credit+data)\">provided by Hans Hofmann from Univeristy of Hamburg</a>). The data we will be working with here is a reduced version of the full dataset.</p>\n",
    "<p>The following features are available for the 1000-row dataset:</p>\n",
    "<ul>\n",
    "<li>Class: Credit worthiness (what you are trying to predict)</li>\n",
    "<li>Duration: Duration of the credit (in months) </li>\n",
    "<li>Amount: Amount of money asked for (in Deutche Marks (DM))</li>\n",
    "<li>InstallmentRatePercentage: Installment rate in percentage of disposable income </li>\n",
    "<li>ResidenceDuration: Number of years at current residence</li>\n",
    "<li>Age: Person's age</li>\n",
    "<li>NumberExistingCredits: Number of credit accounts</li>\n",
    "<li>NumberPeopleMaintenance: Number of people being liable to provide maintenance for the credit</li>\n",
    "<li>Telephone: Is there a phone number associated with the customer name?  </li>\n",
    "<li>ForeignWorker: Is the person a foreign worker?</li>\n",
    "<li>CheckingAccountStatus: Amount of money in the checking account (in DM)<ul>\n",
    "<li>CheckingAccountStatus.lt.0</li>\n",
    "<li>CheckingAccountStatus.0.to.200</li>\n",
    "<li>CheckingAccountStatus.gt.200</li>\n",
    "</ul></li>\n",
    "<li>CreditHistory: Past credit history<ul>\n",
    "<li>CreditHistory.ThisBank.AllPaid</li>\n",
    "<li>CreditHistory.PaidDuly</li>\n",
    "<li>CreditHistory.Delay</li>\n",
    "<li>CreditHistory.Critical</li>\n",
    "</ul></li>\n",
    "</ul>\n",
    "\n",
    "<p>This dataset is available in <a href=\"http://caret.r-forge.r-project.org/\">'caret'</a> library. Let's load it and see how it looks:</p>"
   ]
  },
  {
   "cell_type": "code",
   "execution_count": 1,
   "metadata": {},
   "outputs": [
    {
     "data": {
      "text/html": [
       "<div>\n",
       "<style scoped>\n",
       "    .dataframe tbody tr th:only-of-type {\n",
       "        vertical-align: middle;\n",
       "    }\n",
       "\n",
       "    .dataframe tbody tr th {\n",
       "        vertical-align: top;\n",
       "    }\n",
       "\n",
       "    .dataframe thead th {\n",
       "        text-align: right;\n",
       "    }\n",
       "</style>\n",
       "<table border=\"1\" class=\"dataframe\">\n",
       "  <thead>\n",
       "    <tr style=\"text-align: right;\">\n",
       "      <th></th>\n",
       "      <th>Class</th>\n",
       "      <th>Duration</th>\n",
       "      <th>Amount</th>\n",
       "      <th>InstallmentRatePercentage</th>\n",
       "      <th>ResidenceDuration</th>\n",
       "      <th>Age</th>\n",
       "      <th>NumberExistingCredits</th>\n",
       "      <th>NumberPeopleMaintenance</th>\n",
       "      <th>Telephone</th>\n",
       "      <th>ForeignWorker</th>\n",
       "      <th>CheckingAccountStatus.lt.0</th>\n",
       "      <th>CheckingAccountStatus.0.to.200</th>\n",
       "      <th>CheckingAccountStatus.gt.200</th>\n",
       "      <th>CreditHistory.ThisBank.AllPaid</th>\n",
       "      <th>CreditHistory.PaidDuly</th>\n",
       "      <th>CreditHistory.Delay</th>\n",
       "      <th>CreditHistory.Critical</th>\n",
       "    </tr>\n",
       "  </thead>\n",
       "  <tbody>\n",
       "    <tr>\n",
       "      <th>0</th>\n",
       "      <td>Good</td>\n",
       "      <td>6</td>\n",
       "      <td>1169</td>\n",
       "      <td>4</td>\n",
       "      <td>4</td>\n",
       "      <td>67</td>\n",
       "      <td>2</td>\n",
       "      <td>1</td>\n",
       "      <td>0</td>\n",
       "      <td>1</td>\n",
       "      <td>1</td>\n",
       "      <td>0</td>\n",
       "      <td>0</td>\n",
       "      <td>0</td>\n",
       "      <td>0</td>\n",
       "      <td>0</td>\n",
       "      <td>1</td>\n",
       "    </tr>\n",
       "    <tr>\n",
       "      <th>1</th>\n",
       "      <td>Bad</td>\n",
       "      <td>48</td>\n",
       "      <td>5951</td>\n",
       "      <td>2</td>\n",
       "      <td>2</td>\n",
       "      <td>22</td>\n",
       "      <td>1</td>\n",
       "      <td>1</td>\n",
       "      <td>1</td>\n",
       "      <td>1</td>\n",
       "      <td>0</td>\n",
       "      <td>1</td>\n",
       "      <td>0</td>\n",
       "      <td>0</td>\n",
       "      <td>1</td>\n",
       "      <td>0</td>\n",
       "      <td>0</td>\n",
       "    </tr>\n",
       "    <tr>\n",
       "      <th>2</th>\n",
       "      <td>Good</td>\n",
       "      <td>12</td>\n",
       "      <td>2096</td>\n",
       "      <td>2</td>\n",
       "      <td>3</td>\n",
       "      <td>49</td>\n",
       "      <td>1</td>\n",
       "      <td>2</td>\n",
       "      <td>1</td>\n",
       "      <td>1</td>\n",
       "      <td>0</td>\n",
       "      <td>0</td>\n",
       "      <td>0</td>\n",
       "      <td>0</td>\n",
       "      <td>0</td>\n",
       "      <td>0</td>\n",
       "      <td>1</td>\n",
       "    </tr>\n",
       "    <tr>\n",
       "      <th>3</th>\n",
       "      <td>Good</td>\n",
       "      <td>36</td>\n",
       "      <td>9055</td>\n",
       "      <td>2</td>\n",
       "      <td>4</td>\n",
       "      <td>35</td>\n",
       "      <td>1</td>\n",
       "      <td>2</td>\n",
       "      <td>0</td>\n",
       "      <td>1</td>\n",
       "      <td>0</td>\n",
       "      <td>0</td>\n",
       "      <td>0</td>\n",
       "      <td>0</td>\n",
       "      <td>1</td>\n",
       "      <td>0</td>\n",
       "      <td>0</td>\n",
       "    </tr>\n",
       "    <tr>\n",
       "      <th>4</th>\n",
       "      <td>Good</td>\n",
       "      <td>24</td>\n",
       "      <td>2835</td>\n",
       "      <td>3</td>\n",
       "      <td>4</td>\n",
       "      <td>53</td>\n",
       "      <td>1</td>\n",
       "      <td>1</td>\n",
       "      <td>1</td>\n",
       "      <td>1</td>\n",
       "      <td>0</td>\n",
       "      <td>0</td>\n",
       "      <td>0</td>\n",
       "      <td>0</td>\n",
       "      <td>1</td>\n",
       "      <td>0</td>\n",
       "      <td>0</td>\n",
       "    </tr>\n",
       "  </tbody>\n",
       "</table>\n",
       "</div>"
      ],
      "text/plain": [
       "  Class  Duration  Amount  InstallmentRatePercentage  ResidenceDuration  Age  \\\n",
       "0  Good         6    1169                          4                  4   67   \n",
       "1   Bad        48    5951                          2                  2   22   \n",
       "2  Good        12    2096                          2                  3   49   \n",
       "3  Good        36    9055                          2                  4   35   \n",
       "4  Good        24    2835                          3                  4   53   \n",
       "\n",
       "   NumberExistingCredits  NumberPeopleMaintenance  Telephone  ForeignWorker  \\\n",
       "0                      2                        1          0              1   \n",
       "1                      1                        1          1              1   \n",
       "2                      1                        2          1              1   \n",
       "3                      1                        2          0              1   \n",
       "4                      1                        1          1              1   \n",
       "\n",
       "   CheckingAccountStatus.lt.0  CheckingAccountStatus.0.to.200  \\\n",
       "0                           1                               0   \n",
       "1                           0                               1   \n",
       "2                           0                               0   \n",
       "3                           0                               0   \n",
       "4                           0                               0   \n",
       "\n",
       "   CheckingAccountStatus.gt.200  CreditHistory.ThisBank.AllPaid  \\\n",
       "0                             0                               0   \n",
       "1                             0                               0   \n",
       "2                             0                               0   \n",
       "3                             0                               0   \n",
       "4                             0                               0   \n",
       "\n",
       "   CreditHistory.PaidDuly  CreditHistory.Delay  CreditHistory.Critical  \n",
       "0                       0                    0                       1  \n",
       "1                       1                    0                       0  \n",
       "2                       0                    0                       1  \n",
       "3                       1                    0                       0  \n",
       "4                       1                    0                       0  "
      ]
     },
     "execution_count": 1,
     "metadata": {},
     "output_type": "execute_result"
    }
   ],
   "source": [
    "import pandas as pd\n",
    "\n",
    "# loading the training and test dataset\n",
    "credit_train = pd.read_csv('credit_train.csv')\n",
    "credit_test = pd.read_csv('credit_test.csv')\n",
    "\n",
    "credit_train.head()"
   ]
  },
  {
   "cell_type": "code",
   "execution_count": 2,
   "metadata": {},
   "outputs": [
    {
     "data": {
      "text/html": [
       "<div>\n",
       "<style scoped>\n",
       "    .dataframe tbody tr th:only-of-type {\n",
       "        vertical-align: middle;\n",
       "    }\n",
       "\n",
       "    .dataframe tbody tr th {\n",
       "        vertical-align: top;\n",
       "    }\n",
       "\n",
       "    .dataframe thead th {\n",
       "        text-align: right;\n",
       "    }\n",
       "</style>\n",
       "<table border=\"1\" class=\"dataframe\">\n",
       "  <thead>\n",
       "    <tr style=\"text-align: right;\">\n",
       "      <th></th>\n",
       "      <th>Duration</th>\n",
       "      <th>Amount</th>\n",
       "      <th>InstallmentRatePercentage</th>\n",
       "      <th>ResidenceDuration</th>\n",
       "      <th>Age</th>\n",
       "      <th>NumberExistingCredits</th>\n",
       "      <th>NumberPeopleMaintenance</th>\n",
       "      <th>Telephone</th>\n",
       "      <th>ForeignWorker</th>\n",
       "      <th>CheckingAccountStatus.lt.0</th>\n",
       "      <th>CheckingAccountStatus.0.to.200</th>\n",
       "      <th>CheckingAccountStatus.gt.200</th>\n",
       "      <th>CreditHistory.ThisBank.AllPaid</th>\n",
       "      <th>CreditHistory.PaidDuly</th>\n",
       "      <th>CreditHistory.Delay</th>\n",
       "      <th>CreditHistory.Critical</th>\n",
       "    </tr>\n",
       "  </thead>\n",
       "  <tbody>\n",
       "    <tr>\n",
       "      <th>count</th>\n",
       "      <td>808.000000</td>\n",
       "      <td>808.000000</td>\n",
       "      <td>808.000000</td>\n",
       "      <td>808.000000</td>\n",
       "      <td>808.000000</td>\n",
       "      <td>808.000000</td>\n",
       "      <td>808.000000</td>\n",
       "      <td>808.000000</td>\n",
       "      <td>808.000000</td>\n",
       "      <td>808.000000</td>\n",
       "      <td>808.000000</td>\n",
       "      <td>808.000000</td>\n",
       "      <td>808.000000</td>\n",
       "      <td>808.000000</td>\n",
       "      <td>808.000000</td>\n",
       "      <td>808.000000</td>\n",
       "    </tr>\n",
       "    <tr>\n",
       "      <th>mean</th>\n",
       "      <td>20.757426</td>\n",
       "      <td>3195.446782</td>\n",
       "      <td>2.966584</td>\n",
       "      <td>2.866337</td>\n",
       "      <td>35.652228</td>\n",
       "      <td>1.409653</td>\n",
       "      <td>1.148515</td>\n",
       "      <td>0.605198</td>\n",
       "      <td>0.961634</td>\n",
       "      <td>0.275990</td>\n",
       "      <td>0.257426</td>\n",
       "      <td>0.068069</td>\n",
       "      <td>0.049505</td>\n",
       "      <td>0.542079</td>\n",
       "      <td>0.086634</td>\n",
       "      <td>0.280941</td>\n",
       "    </tr>\n",
       "    <tr>\n",
       "      <th>std</th>\n",
       "      <td>12.167585</td>\n",
       "      <td>2762.517678</td>\n",
       "      <td>1.115453</td>\n",
       "      <td>1.116267</td>\n",
       "      <td>11.374512</td>\n",
       "      <td>0.590512</td>\n",
       "      <td>0.355830</td>\n",
       "      <td>0.489111</td>\n",
       "      <td>0.192198</td>\n",
       "      <td>0.447289</td>\n",
       "      <td>0.437487</td>\n",
       "      <td>0.252021</td>\n",
       "      <td>0.217054</td>\n",
       "      <td>0.498535</td>\n",
       "      <td>0.281472</td>\n",
       "      <td>0.449737</td>\n",
       "    </tr>\n",
       "    <tr>\n",
       "      <th>min</th>\n",
       "      <td>4.000000</td>\n",
       "      <td>276.000000</td>\n",
       "      <td>1.000000</td>\n",
       "      <td>1.000000</td>\n",
       "      <td>19.000000</td>\n",
       "      <td>1.000000</td>\n",
       "      <td>1.000000</td>\n",
       "      <td>0.000000</td>\n",
       "      <td>0.000000</td>\n",
       "      <td>0.000000</td>\n",
       "      <td>0.000000</td>\n",
       "      <td>0.000000</td>\n",
       "      <td>0.000000</td>\n",
       "      <td>0.000000</td>\n",
       "      <td>0.000000</td>\n",
       "      <td>0.000000</td>\n",
       "    </tr>\n",
       "    <tr>\n",
       "      <th>25%</th>\n",
       "      <td>12.000000</td>\n",
       "      <td>1344.750000</td>\n",
       "      <td>2.000000</td>\n",
       "      <td>2.000000</td>\n",
       "      <td>27.000000</td>\n",
       "      <td>1.000000</td>\n",
       "      <td>1.000000</td>\n",
       "      <td>0.000000</td>\n",
       "      <td>1.000000</td>\n",
       "      <td>0.000000</td>\n",
       "      <td>0.000000</td>\n",
       "      <td>0.000000</td>\n",
       "      <td>0.000000</td>\n",
       "      <td>0.000000</td>\n",
       "      <td>0.000000</td>\n",
       "      <td>0.000000</td>\n",
       "    </tr>\n",
       "    <tr>\n",
       "      <th>50%</th>\n",
       "      <td>18.000000</td>\n",
       "      <td>2262.000000</td>\n",
       "      <td>3.000000</td>\n",
       "      <td>3.000000</td>\n",
       "      <td>33.000000</td>\n",
       "      <td>1.000000</td>\n",
       "      <td>1.000000</td>\n",
       "      <td>1.000000</td>\n",
       "      <td>1.000000</td>\n",
       "      <td>0.000000</td>\n",
       "      <td>0.000000</td>\n",
       "      <td>0.000000</td>\n",
       "      <td>0.000000</td>\n",
       "      <td>1.000000</td>\n",
       "      <td>0.000000</td>\n",
       "      <td>0.000000</td>\n",
       "    </tr>\n",
       "    <tr>\n",
       "      <th>75%</th>\n",
       "      <td>24.000000</td>\n",
       "      <td>3941.500000</td>\n",
       "      <td>4.000000</td>\n",
       "      <td>4.000000</td>\n",
       "      <td>42.000000</td>\n",
       "      <td>2.000000</td>\n",
       "      <td>1.000000</td>\n",
       "      <td>1.000000</td>\n",
       "      <td>1.000000</td>\n",
       "      <td>1.000000</td>\n",
       "      <td>1.000000</td>\n",
       "      <td>0.000000</td>\n",
       "      <td>0.000000</td>\n",
       "      <td>1.000000</td>\n",
       "      <td>0.000000</td>\n",
       "      <td>1.000000</td>\n",
       "    </tr>\n",
       "    <tr>\n",
       "      <th>max</th>\n",
       "      <td>72.000000</td>\n",
       "      <td>15945.000000</td>\n",
       "      <td>4.000000</td>\n",
       "      <td>4.000000</td>\n",
       "      <td>74.000000</td>\n",
       "      <td>4.000000</td>\n",
       "      <td>2.000000</td>\n",
       "      <td>1.000000</td>\n",
       "      <td>1.000000</td>\n",
       "      <td>1.000000</td>\n",
       "      <td>1.000000</td>\n",
       "      <td>1.000000</td>\n",
       "      <td>1.000000</td>\n",
       "      <td>1.000000</td>\n",
       "      <td>1.000000</td>\n",
       "      <td>1.000000</td>\n",
       "    </tr>\n",
       "  </tbody>\n",
       "</table>\n",
       "</div>"
      ],
      "text/plain": [
       "         Duration        Amount  InstallmentRatePercentage  ResidenceDuration  \\\n",
       "count  808.000000    808.000000                 808.000000         808.000000   \n",
       "mean    20.757426   3195.446782                   2.966584           2.866337   \n",
       "std     12.167585   2762.517678                   1.115453           1.116267   \n",
       "min      4.000000    276.000000                   1.000000           1.000000   \n",
       "25%     12.000000   1344.750000                   2.000000           2.000000   \n",
       "50%     18.000000   2262.000000                   3.000000           3.000000   \n",
       "75%     24.000000   3941.500000                   4.000000           4.000000   \n",
       "max     72.000000  15945.000000                   4.000000           4.000000   \n",
       "\n",
       "              Age  NumberExistingCredits  NumberPeopleMaintenance   Telephone  \\\n",
       "count  808.000000             808.000000               808.000000  808.000000   \n",
       "mean    35.652228               1.409653                 1.148515    0.605198   \n",
       "std     11.374512               0.590512                 0.355830    0.489111   \n",
       "min     19.000000               1.000000                 1.000000    0.000000   \n",
       "25%     27.000000               1.000000                 1.000000    0.000000   \n",
       "50%     33.000000               1.000000                 1.000000    1.000000   \n",
       "75%     42.000000               2.000000                 1.000000    1.000000   \n",
       "max     74.000000               4.000000                 2.000000    1.000000   \n",
       "\n",
       "       ForeignWorker  CheckingAccountStatus.lt.0  \\\n",
       "count     808.000000                  808.000000   \n",
       "mean        0.961634                    0.275990   \n",
       "std         0.192198                    0.447289   \n",
       "min         0.000000                    0.000000   \n",
       "25%         1.000000                    0.000000   \n",
       "50%         1.000000                    0.000000   \n",
       "75%         1.000000                    1.000000   \n",
       "max         1.000000                    1.000000   \n",
       "\n",
       "       CheckingAccountStatus.0.to.200  CheckingAccountStatus.gt.200  \\\n",
       "count                      808.000000                    808.000000   \n",
       "mean                         0.257426                      0.068069   \n",
       "std                          0.437487                      0.252021   \n",
       "min                          0.000000                      0.000000   \n",
       "25%                          0.000000                      0.000000   \n",
       "50%                          0.000000                      0.000000   \n",
       "75%                          1.000000                      0.000000   \n",
       "max                          1.000000                      1.000000   \n",
       "\n",
       "       CreditHistory.ThisBank.AllPaid  CreditHistory.PaidDuly  \\\n",
       "count                      808.000000              808.000000   \n",
       "mean                         0.049505                0.542079   \n",
       "std                          0.217054                0.498535   \n",
       "min                          0.000000                0.000000   \n",
       "25%                          0.000000                0.000000   \n",
       "50%                          0.000000                1.000000   \n",
       "75%                          0.000000                1.000000   \n",
       "max                          1.000000                1.000000   \n",
       "\n",
       "       CreditHistory.Delay  CreditHistory.Critical  \n",
       "count           808.000000              808.000000  \n",
       "mean              0.086634                0.280941  \n",
       "std               0.281472                0.449737  \n",
       "min               0.000000                0.000000  \n",
       "25%               0.000000                0.000000  \n",
       "50%               0.000000                0.000000  \n",
       "75%               0.000000                1.000000  \n",
       "max               1.000000                1.000000  "
      ]
     },
     "execution_count": 2,
     "metadata": {},
     "output_type": "execute_result"
    }
   ],
   "source": [
    "credit_train.describe()"
   ]
  },
  {
   "cell_type": "code",
   "execution_count": 3,
   "metadata": {},
   "outputs": [
    {
     "data": {
      "text/plain": [
       "(808, 17)"
      ]
     },
     "execution_count": 3,
     "metadata": {},
     "output_type": "execute_result"
    }
   ],
   "source": [
    "credit_test.shape\n",
    "credit_train.shape"
   ]
  },
  {
   "cell_type": "markdown",
   "metadata": {},
   "source": [
    "<h3>Q.0. Write code to display the count of null values in each column<h3>"
   ]
  },
  {
   "cell_type": "code",
   "execution_count": 4,
   "metadata": {},
   "outputs": [
    {
     "name": "stdout",
     "output_type": "stream",
     "text": [
      "Count of credit_train null values by column: \n",
      " Class                             0\n",
      "Duration                          0\n",
      "Amount                            0\n",
      "InstallmentRatePercentage         0\n",
      "ResidenceDuration                 0\n",
      "Age                               0\n",
      "NumberExistingCredits             0\n",
      "NumberPeopleMaintenance           0\n",
      "Telephone                         0\n",
      "ForeignWorker                     0\n",
      "CheckingAccountStatus.lt.0        0\n",
      "CheckingAccountStatus.0.to.200    0\n",
      "CheckingAccountStatus.gt.200      0\n",
      "CreditHistory.ThisBank.AllPaid    0\n",
      "CreditHistory.PaidDuly            0\n",
      "CreditHistory.Delay               0\n",
      "CreditHistory.Critical            0\n",
      "dtype: int64\n",
      "Count of credit_test null values by column: \n",
      " Class                             0\n",
      "Duration                          0\n",
      "Amount                            0\n",
      "InstallmentRatePercentage         0\n",
      "ResidenceDuration                 0\n",
      "Age                               0\n",
      "NumberExistingCredits             0\n",
      "NumberPeopleMaintenance           0\n",
      "Telephone                         0\n",
      "ForeignWorker                     0\n",
      "CheckingAccountStatus.lt.0        0\n",
      "CheckingAccountStatus.0.to.200    0\n",
      "CheckingAccountStatus.gt.200      0\n",
      "CreditHistory.ThisBank.AllPaid    0\n",
      "CreditHistory.PaidDuly            0\n",
      "CreditHistory.Delay               0\n",
      "CreditHistory.Critical            0\n",
      "dtype: int64\n",
      "Count of train_data nulls: \n",
      " False\n",
      "Count of test_data nulls: \n",
      " False\n"
     ]
    }
   ],
   "source": [
    "# Command:\n",
    "print(\"Count of credit_train null values by column: \\n\",credit_train.isnull().sum(axis=0))\n",
    "print(\"Count of credit_test null values by column: \\n\",credit_test.isnull().sum(axis=0))\n",
    "\n",
    "print(\"Count of train_data nulls: \\n\", credit_train.isnull().values.any())\n",
    "print(\"Count of test_data nulls: \\n\", credit_test.isnull().values.any())\n",
    "# One sentance summary:\n",
    "# There are no null values in either the credit_train or the credit_test dataframes. "
   ]
  },
  {
   "cell_type": "markdown",
   "metadata": {},
   "source": [
    "<h3>Q.1. How does the distribution of credit amount look like? (Use a histogram plot to answer this question)</h3>"
   ]
  },
  {
   "cell_type": "code",
   "execution_count": 5,
   "metadata": {},
   "outputs": [
    {
     "data": {
      "image/png": "[encoded data removed]",
      "text/plain": [
       "<Figure size 432x288 with 1 Axes>"
      ]
     },
     "metadata": {
      "needs_background": "light"
     },
     "output_type": "display_data"
    }
   ],
   "source": [
    "# Put the command (or commands) here that would give an answer to the above question.\n",
    "import matplotlib.pyplot as plt\n",
    "import matplotlib.mlab as mlab\n",
    "import seaborn as sn\n",
    "%matplotlib inline\n",
    "\n",
    "x = credit_train['Amount']\n",
    "n_bins = 50\n",
    "n, bins, patches = plt.hist(x, n_bins, density=True, facecolor='blue', alpha=0.75)\n",
    "\n",
    "plt.xlabel('Credit Amount')\n",
    "plt.ylabel('Probability')\n",
    "plt.title('Histogram of Credit Amount')\n",
    "plt.grid(True)\n",
    "plt.show()\n",
    "\n",
    "# The distribution of Credit Amount has a long right tail."
   ]
  },
  {
   "cell_type": "markdown",
   "metadata": {},
   "source": [
    "## Q.1. Comment\n",
    "The distribution of Credit Amount has a long right tail. "
   ]
  },
  {
   "cell_type": "code",
   "execution_count": 6,
   "metadata": {},
   "outputs": [
    {
     "data": {
      "image/png": "[encoded data removed]",
      "text/plain": [
       "<Figure size 432x288 with 1 Axes>"
      ]
     },
     "metadata": {
      "needs_background": "light"
     },
     "output_type": "display_data"
    }
   ],
   "source": [
    "# looking at a logged distribution\n",
    "import numpy as np\n",
    "x = np.log(credit_train['Amount'])\n",
    "n_bins = 50\n",
    "\n",
    "# the histogram of the data\n",
    "%matplotlib inline\n",
    "n, bins, patches = plt.hist(x, n_bins, density=True, facecolor='blue', alpha=0.75)\n",
    "\n",
    "plt.xlabel('Logged Credit Amount')\n",
    "plt.ylabel('Probability')\n",
    "plt.title('Histogram of Credit Amount')\n",
    "plt.grid(True)\n",
    "plt.show()\n",
    "\n",
    "# Transforming credit amount with the log function generates a much more normal distribution."
   ]
  },
  {
   "cell_type": "markdown",
   "metadata": {},
   "source": [
    "## Q.1. Transformed credit amount comment\n",
    "Transforming credit amount with the log function generates a much more normal distribution. "
   ]
  },
  {
   "cell_type": "markdown",
   "metadata": {},
   "source": [
    "<h3>Q.2. Can you generate a plot that shows CreditHistory.Critical vs. Credit Worthiness for the training data. Can you comment whether person with critical credit history is more credit worthy?</h3> "
   ]
  },
  {
   "cell_type": "code",
   "execution_count": 7,
   "metadata": {},
   "outputs": [
    {
     "data": {
      "image/png": "[encoded data removed]",
      "text/plain": [
       "<Figure size 432x288 with 3 Axes>"
      ]
     },
     "metadata": {
      "needs_background": "light"
     },
     "output_type": "display_data"
    }
   ],
   "source": [
    "# Command:\n",
    "from statsmodels.graphics.mosaicplot import mosaic\n",
    "\n",
    "mosaic(credit_train, ['CreditHistory.Critical','Class'])\n",
    "plt.ylabel('Credit Worthiness')\n",
    "plt.xlabel('Credit History Critical')\n",
    "plt.show()"
   ]
  },
  {
   "cell_type": "markdown",
   "metadata": {},
   "source": [
    "## Q.2. comment\n",
    "People who have been flagged with CreditHistory.Critical(1 = critical) end up with a lower propotion of 'Worthiness bad' ratings (likely as the result of confounding)."
   ]
  },
  {
   "cell_type": "markdown",
   "metadata": {},
   "source": [
    "<h3>Q.3. Binarize the y output for e.g. 0 = 'bad' credit; 1 = 'good' credit. </h3>"
   ]
  },
  {
   "cell_type": "code",
   "execution_count": 8,
   "metadata": {},
   "outputs": [
    {
     "data": {
      "text/plain": [
       "0    1\n",
       "1    0\n",
       "2    1\n",
       "3    1\n",
       "4    1\n",
       "Name: Class, dtype: int64"
      ]
     },
     "execution_count": 8,
     "metadata": {},
     "output_type": "execute_result"
    }
   ],
   "source": [
    "y = {'Bad':0, 'Good':1}\n",
    "credit_train.Class = [y[item] for item in credit_train.Class] \n",
    "credit_test.Class  = [y[item] for item in credit_test.Class]\n",
    "\n",
    "credit_train['Class'].head()"
   ]
  },
  {
   "cell_type": "markdown",
   "metadata": {},
   "source": [
    "<h3>Q.4. Generate a logistic regression model that uses the one predictor CreditHistory.Critical. Provide a summary of the model. </h3>"
   ]
  },
  {
   "cell_type": "code",
   "execution_count": 9,
   "metadata": {},
   "outputs": [
    {
     "data": {
      "text/plain": [
       "array([[0.9820343]])"
      ]
     },
     "execution_count": 9,
     "metadata": {},
     "output_type": "execute_result"
    }
   ],
   "source": [
    "from sklearn.linear_model import LogisticRegression\n",
    "# sklearn LogistidRegression default adds an intercept\n",
    "\n",
    "y_train = credit_train['Class']\n",
    "X_train = credit_train[['CreditHistory.Critical']]\n",
    "y_test = credit_test['Class']\n",
    "X_test = credit_test[['CreditHistory.Critical']]\n",
    "\n",
    "log_reg = LogisticRegression(random_state=42)\n",
    "log_reg.fit(X_train, y_train)\n",
    "log_reg.coef_"
   ]
  },
  {
   "cell_type": "markdown",
   "metadata": {},
   "source": [
    "## Q.4. Comment\n",
    "The model generated a positive coefficent of .98 (log-odds) for CreditHistory.Critical, suggesting that you are more likely to have a good credit outcome if you are flagged as being risky! This is the result of confounding as those without credit histories are likely highly risky but do not have a credit history to be flagged. Adding in other coefficients to this model such as *AGE* and *NumberExistingCredits* along with an interaction term for *Age* X *CreditHistory.Critical* makes the result much more believable (As shown in the cell below). "
   ]
  },
  {
   "cell_type": "code",
   "execution_count": 11,
   "metadata": {},
   "outputs": [
    {
     "data": {
      "text/plain": [
       "array([[-0.11476281,  0.0073881 ,  0.0338268 , -0.21365057]])"
      ]
     },
     "execution_count": 11,
     "metadata": {},
     "output_type": "execute_result"
    }
   ],
   "source": [
    "y_train_2 = credit_train['Class']\n",
    "credit_train['critical_x_age'] = credit_train['CreditHistory.Critical']*credit_train['Age']\n",
    "credit_test['critical_x_age']  = credit_test['CreditHistory.Critical']*credit_test['Age']\n",
    "\n",
    "X_train_2 = credit_train[['CreditHistory.Critical', 'Age', 'critical_x_age',  'NumberExistingCredits']]\n",
    "X_test_2  = credit_test[['CreditHistory.Critical', 'Age', 'critical_x_age',  'NumberExistingCredits']]\n",
    "\n",
    "log_reg_2 = LogisticRegression(random_state=42)\n",
    "log_reg_2.fit(X_train_2, y_train)\n",
    "\n",
    "credit_train.drop('critical_x_age', axis=1)\n",
    "log_reg_2.coef_"
   ]
  },
  {
   "cell_type": "code",
   "execution_count": 12,
   "metadata": {},
   "outputs": [
    {
     "name": "stderr",
     "output_type": "stream",
     "text": [
      "Using TensorFlow backend.\n"
     ]
    },
    {
     "data": {
      "text/plain": [
       "array([[0.16134078, 0.01107852, 0.02280292, 0.14306504]])"
      ]
     },
     "execution_count": 12,
     "metadata": {},
     "output_type": "execute_result"
    }
   ],
   "source": [
    "from imblearn.combine import SMOTETomek\n",
    "smt = SMOTETomek(random_state=42)\n",
    "\n",
    "X_train_rb, y_train_rb = smt.fit_resample(X_train_2, y_train_2)\n",
    "log_reg_3 = LogisticRegression(random_state=42)\n",
    "log_reg_3.fit(X_train_rb, y_train_rb)\n",
    "\n",
    "log_reg_3.coef_"
   ]
  },
  {
   "cell_type": "markdown",
   "metadata": {},
   "source": [
    "<h3>Q.5. Using the developed model, predict the values in credit_test and use it to output a confusion matrix.</h3>"
   ]
  },
  {
   "cell_type": "code",
   "execution_count": 13,
   "metadata": {},
   "outputs": [
    {
     "data": {
      "text/plain": [
       "array([[  0,  54],\n",
       "       [  0, 138]])"
      ]
     },
     "execution_count": 13,
     "metadata": {},
     "output_type": "execute_result"
    }
   ],
   "source": [
    "# original base model\n",
    "from sklearn.metrics import confusion_matrix\n",
    "y_pred = log_reg.predict(X_test)\n",
    "confusion_matrix(y_test, y_pred)"
   ]
  },
  {
   "cell_type": "code",
   "execution_count": 14,
   "metadata": {},
   "outputs": [
    {
     "data": {
      "text/plain": [
       "array([[  0,  54],\n",
       "       [  0, 138]])"
      ]
     },
     "execution_count": 14,
     "metadata": {},
     "output_type": "execute_result"
    }
   ],
   "source": [
    "# Model with more covariates\n",
    "y_pred_2 = log_reg_2.predict(X_test_2)\n",
    "confusion_matrix(y_test, y_pred_2)"
   ]
  },
  {
   "cell_type": "code",
   "execution_count": 15,
   "metadata": {},
   "outputs": [
    {
     "data": {
      "text/plain": [
       "array([[39, 15],\n",
       "       [79, 59]])"
      ]
     },
     "execution_count": 15,
     "metadata": {},
     "output_type": "execute_result"
    }
   ],
   "source": [
    "# Model with more covariates and SMOTE Tomek rebalancing\n",
    "y_pred_3 = log_reg_3.predict(X_test_2)\n",
    "confusion_matrix(y_test, y_pred_3)"
   ]
  },
  {
   "cell_type": "markdown",
   "metadata": {},
   "source": [
    "<h3>Q.6. What is the accuracy of the model on the test data?</h3>"
   ]
  },
  {
   "cell_type": "code",
   "execution_count": 16,
   "metadata": {},
   "outputs": [
    {
     "name": "stdout",
     "output_type": "stream",
     "text": [
      "Accuracy Score - Base model: 0.71875\n",
      "Accuracy Score - SMOTE-Tomek model: 0.5104166666666666\n"
     ]
    }
   ],
   "source": [
    "# Command that outputs acccuracy\n",
    "from sklearn.metrics import recall_score, roc_auc_score, accuracy_score\n",
    "print(\"Accuracy Score - Base model:\",accuracy_score(y_test, y_pred, normalize=True))\n",
    "print(\"Accuracy Score - SMOTE-Tomek model:\",accuracy_score(y_test, y_pred_3, normalize=True))"
   ]
  },
  {
   "cell_type": "markdown",
   "metadata": {},
   "source": [
    "<h3>Q.7. Generate the ROC curve.</h3>"
   ]
  },
  {
   "cell_type": "code",
   "execution_count": 17,
   "metadata": {},
   "outputs": [
    {
     "data": {
      "text/plain": [
       "<sklearn.metrics._plot.roc_curve.RocCurveDisplay at 0x1a3f02ec90>"
      ]
     },
     "execution_count": 17,
     "metadata": {},
     "output_type": "execute_result"
    },
    {
     "data": {
      "image/png": "[encoded data removed]",
      "text/plain": [
       "<Figure size 432x288 with 1 Axes>"
      ]
     },
     "metadata": {
      "needs_background": "light"
     },
     "output_type": "display_data"
    }
   ],
   "source": [
    "from sklearn.metrics import roc_curve, plot_roc_curve\n",
    "\n",
    "# ROC Curve for base model\n",
    "plot_roc_curve(log_reg, X_test, y_test)"
   ]
  },
  {
   "cell_type": "code",
   "execution_count": 18,
   "metadata": {},
   "outputs": [
    {
     "data": {
      "text/plain": [
       "<sklearn.metrics._plot.roc_curve.RocCurveDisplay at 0x1a3f0b28d0>"
      ]
     },
     "execution_count": 18,
     "metadata": {},
     "output_type": "execute_result"
    },
    {
     "data": {
      "image/png": "[encoded data removed]",
      "text/plain": [
       "<Figure size 432x288 with 1 Axes>"
      ]
     },
     "metadata": {
      "needs_background": "light"
     },
     "output_type": "display_data"
    }
   ],
   "source": [
    "# ROC Curve for SMOTE-Tomek model\n",
    "plot_roc_curve(log_reg_3, X_test_2, y_test)"
   ]
  },
  {
   "cell_type": "markdown",
   "metadata": {},
   "source": [
    "<h3>Q.8. What is the ROC AUC of the model on the test data?</h3>"
   ]
  },
  {
   "cell_type": "code",
   "execution_count": 19,
   "metadata": {},
   "outputs": [
    {
     "name": "stdout",
     "output_type": "stream",
     "text": [
      "ROC AUC Score - Base model: 0.5\n",
      "ROC AUC Score - SMOTE-Tomek model: 0.5748792270531402\n"
     ]
    }
   ],
   "source": [
    "# Command(s):\n",
    "print(\"ROC AUC Score - Base model:\",roc_auc_score(y_test, y_pred))\n",
    "print(\"ROC AUC Score - SMOTE-Tomek model:\",roc_auc_score(y_test, y_pred_3))"
   ]
  },
  {
   "cell_type": "markdown",
   "metadata": {},
   "source": [
    "<h3>Q.9. Calculate LDA model on credit_train.</h3>"
   ]
  },
  {
   "cell_type": "code",
   "execution_count": 20,
   "metadata": {},
   "outputs": [],
   "source": [
    "from sklearn.discriminant_analysis import LinearDiscriminantAnalysis\n",
    "lda = LinearDiscriminantAnalysis()\n",
    "pred = lda.fit(X_train, y_train).predict(X_test)"
   ]
  },
  {
   "cell_type": "code",
   "execution_count": 21,
   "metadata": {},
   "outputs": [
    {
     "name": "stdout",
     "output_type": "stream",
     "text": [
      "LDA priors - base model: [0.30445545 0.69554455]\n",
      "LDA means - base model:\n",
      " [[0.15447154]\n",
      " [0.33629893]]\n",
      "LDA coef - base model: [[0.93008353]]\n",
      "Confusion Matrix LDA - base model:\n",
      " [[  0  54]\n",
      " [  0 138]]\n"
     ]
    }
   ],
   "source": [
    "print(\"LDA priors - base model:\", lda.priors_)\n",
    "print(\"LDA means - base model:\\n\",lda.means_)\n",
    "print(\"LDA coef - base model:\",lda.coef_)\n",
    "print(\"Confusion Matrix LDA - base model:\\n\",confusion_matrix(y_test, pred))"
   ]
  },
  {
   "cell_type": "code",
   "execution_count": 22,
   "metadata": {},
   "outputs": [],
   "source": [
    "lda_rb = LinearDiscriminantAnalysis()\n",
    "pred_rb = lda_rb.fit(X_train_rb, y_train_rb).predict(X_test_2)"
   ]
  },
  {
   "cell_type": "code",
   "execution_count": 23,
   "metadata": {},
   "outputs": [
    {
     "name": "stdout",
     "output_type": "stream",
     "text": [
      "LDA priors - SMOTE-Tomek model: [0.5 0.5]\n",
      "LDA means - SMOTE-Tomek:\n",
      " [[ 0.13879004 33.58540925  4.95373665  1.27224199]\n",
      " [ 0.33629893 36.34341637 13.32918149  1.43238434]]\n",
      "LDA coef - SMOTE-Tomek: [[0.47811629 0.01190174 0.01414027 0.13743013]]\n",
      "Confusion Matrix LDA - SMOTE-Tomek:\n",
      " [[39 15]\n",
      " [79 59]]\n"
     ]
    }
   ],
   "source": [
    "print(\"LDA priors - SMOTE-Tomek model:\", lda_rb.priors_)\n",
    "print(\"LDA means - SMOTE-Tomek:\\n\",lda_rb.means_)\n",
    "print(\"LDA coef - SMOTE-Tomek:\",lda_rb.coef_)\n",
    "print(\"Confusion Matrix LDA - SMOTE-Tomek:\\n\",confusion_matrix(y_test, pred_rb))"
   ]
  },
  {
   "cell_type": "markdown",
   "metadata": {},
   "source": [
    "<h3>Q.10. What is the accuracy of the new model?</h3>"
   ]
  },
  {
   "cell_type": "code",
   "execution_count": 24,
   "metadata": {},
   "outputs": [
    {
     "name": "stdout",
     "output_type": "stream",
     "text": [
      "Accuracy Score - Base model: 0.71875\n",
      "ROC AUC Score - Base model: 0.5\n"
     ]
    }
   ],
   "source": [
    "print(\"Accuracy Score - Base model:\",accuracy_score(y_test, pred, normalize=True))\n",
    "print(\"ROC AUC Score - Base model:\",roc_auc_score(y_test, pred))"
   ]
  },
  {
   "cell_type": "code",
   "execution_count": 25,
   "metadata": {},
   "outputs": [
    {
     "name": "stdout",
     "output_type": "stream",
     "text": [
      "Accuracy Score - SMOTE-Tomek model: 0.5104166666666666\n",
      "ROC AUC Score - SMOTE-Tomek model: 0.5748792270531402\n"
     ]
    }
   ],
   "source": [
    "print(\"Accuracy Score - SMOTE-Tomek model:\",accuracy_score(y_test, pred_rb, normalize=True))\n",
    "print(\"ROC AUC Score - SMOTE-Tomek model:\",roc_auc_score(y_test, pred_rb))"
   ]
  },
  {
   "cell_type": "markdown",
   "metadata": {},
   "source": [
    "<h3>Q.11. Create a new text cell in your Notebook: Complete a 50-100 word summary \n",
    "    (or short description of your thinking in applying this week's learning to the solution) \n",
    "     of your experience in this assignment. Include:\n",
    "<br>                                                                       \n",
    "What was your incoming experience with this model, if any?\n",
    "what steps you took, what obstacles you encountered.\n",
    "how you link this exercise to real-world, machine learning problem-solving. (What steps were missing? What else do you need to learn?)\n",
    "This summary allows your instructor to know how you are doing and allot points for your effort in thinking and planning, and making connections to real-world work.\n",
    "</h3>"
   ]
  },
  {
   "cell_type": "markdown",
   "metadata": {},
   "source": [
    "I have a lot of experience with logistic regression but little with LDA. I was surprised at how similarly they performed. As I described in Q4 comment I found that there was some confounding issues going on which I believe would lead to poor model performance overtime. I attempted to fix it by applying some limited rebalancing of the data set (the y variable) and adding in some additional explanatory variables. This made the model coefficients more reasonable but didn't do much for model accuracy. There was also a problem of the base model just predicting the majority class all the time to maximize accuracy. This model would likely perform much better if it contained more variables. This seems very similar to many problems I have been given in industry and research (where you have poor data quality) but a prediction/model is still required."
   ]
  }
 ],
 "metadata": {
  "kernelspec": {
   "display_name": "Python 3",
   "language": "python",
   "name": "python3"
  },
  "language_info": {
   "codemirror_mode": {
    "name": "ipython",
    "version": 3
   },
   "file_extension": ".py",
   "mimetype": "text/x-python",
   "name": "python",
   "nbconvert_exporter": "python",
   "pygments_lexer": "ipython3",
   "version": "3.7.6"
  }
 },
 "nbformat": 4,
 "nbformat_minor": 2
}
